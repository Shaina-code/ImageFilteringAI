{
 "cells": [
  {
   "cell_type": "code",
   "execution_count": 2,
   "id": "d4fcafa6",
   "metadata": {},
   "outputs": [
    {
     "data": {
      "text/plain": [
       "5"
      ]
     },
     "execution_count": 2,
     "metadata": {},
     "output_type": "execute_result"
    }
   ],
   "source": [
    "a=5\n",
    "a"
   ]
  },
  {
   "cell_type": "code",
   "execution_count": null,
   "id": "bd44dbb0",
   "metadata": {},
   "outputs": [],
   "source": [
    "#contrast\n",
    "import cv2\n",
    "\n",
    "# load the image\n",
    "img = cv2.imread('s.jpeg')\n",
    "\n",
    "# increase contrast by a factor of 1.5\n",
    "contrast_img = cv2.convertScaleAbs(img, alpha=1.5)\n",
    "\n",
    "# display the original and contrasted image\n",
    "cv2.imshow('Original', img)\n",
    "cv2.imshow('Contrasted', contrast_img)\n",
    "cv2.waitKey(0)\n",
    "cv2.destroyAllWindows()]"
   ]
  },
  {
   "cell_type": "code",
   "execution_count": null,
   "id": "43fd62da",
   "metadata": {},
   "outputs": [],
   "source": [
    "#brightness\n",
    "import cv2\n",
    "\n",
    "# Load the image\n",
    "img = cv2.imread('lavisha1.jpg')\n",
    "\n",
    "# Define the brightness level, with a value between 0 and 100\n",
    "brightness = 70\n",
    "\n",
    "# Increase the brightness by adding the specified value to each pixel\n",
    "bright_img = cv2.addWeighted(img, 1 + brightness / 100, img, 0, 0)\n",
    "\n",
    "# Display the original and the modified image\n",
    "cv2.imshow('Original Image', img)\n",
    "cv2.imshow('Brightened Image', bright_img)\n",
    "cv2.waitKey(0)\n",
    "cv2.destroyAllWindows()import cv2\n",
    "\n",
    "# Load the image\n",
    "img = cv2.imread('lavisha1.jpg')\n",
    "\n",
    "# Define the brightness level, with a value between 0 and 100\n",
    "brightness = 70\n",
    "\n",
    "# Increase the brightness by adding the specified value to each pixel\n",
    "bright_img = cv2.addWeighted(img, 1 + brightness / 100, img, 0, 0)\n",
    "\n",
    "# Display the original and the modified image\n",
    "cv2.imshow('Original Image', img)\n",
    "cv2.imshow('Brightened Image', bright_img)\n",
    "cv2.waitKey(0)\n",
    "cv2.destroyAllWindows()"
   ]
  },
  {
   "cell_type": "code",
   "execution_count": null,
   "id": "65a93780",
   "metadata": {},
   "outputs": [],
   "source": [
    "#DARKNESS\n",
    "import cv2\n",
    "\n",
    "# Load the image\n",
    "img = cv2.imread('varshitha.jpg')\n",
    "\n",
    "# Define the darkness level, with a value between 0 and 100\n",
    "darkness = 60\n",
    "\n",
    "# Decrease the brightness by subtracting the specified value from each pixel\n",
    "dark_img = cv2.addWeighted(img, 1, img, 0, -darkness)\n",
    "\n",
    "# Display the original and the modified image\n",
    "cv2.imshow('Original Image', img)\n",
    "cv2.imshow('Darkened Image', dark_img)\n",
    "cv2.waitKey(0)\n",
    "cv2.destroyAllWindows()"
   ]
  },
  {
   "cell_type": "code",
   "execution_count": null,
   "id": "b85f03fc",
   "metadata": {},
   "outputs": [],
   "source": [
    "#GREYSCALE\n",
    "#import opencv\n",
    "import cv2\n",
    "\n",
    "# Load image\n",
    "img = cv2.imread('shaina.jpg')\n",
    "\n",
    "#show image\n",
    "cv2.imshow('Original',img)\n",
    "cv2.waitKey()\n",
    "\n",
    "# Convert image to grayscale\n",
    "gray_img = cv2.cvtColor(img, cv2.COLOR_BGR2GRAY)\n",
    "\n",
    "# Display the original and grayscale images side by side\n",
    "cv2.imshow('Original Image', img)\n",
    "cv2.imshow('Grayscale Image', gray_img)\n",
    "\n",
    "# Wait for user input and then exit\n",
    "cv2.waitKey(0)\n",
    "cv2.destroyAllWindows()"
   ]
  },
  {
   "cell_type": "code",
   "execution_count": null,
   "id": "a6f7060b",
   "metadata": {},
   "outputs": [],
   "source": [
    "#CARTOON\n",
    "import cv2\n",
    "import numpy as np\n",
    "from tkinter.filedialog import *\n",
    "\n",
    "photo = askopenfilename()\n",
    "img = cv2.imread(photo)\n",
    "\n",
    "grey = cv2.cvtColor(img, cv2.COLOR_BGR2GRAY)\n",
    "grey = cv2.medianBlur(grey, 5)\n",
    "edges = cv2.adaptiveThreshold(grey, 255, cv2.ADAPTIVE_THRESH_MEAN_C, cv2.THRESH_BINARY, 9, 9)\n",
    "\n",
    "#cartoonize\n",
    "color = cv2.bilateralFilter(img, 9, 250, 250)\n",
    "cartoon = cv2.bitwise_and(color, color, mask = edges)\n",
    "\n",
    "cv2.imshow(\"Image\", img)\n",
    "cv2.imshow(\"Cartoon\", cartoon)\n",
    "\n",
    "#save\n",
    "cv2.imwrite(\"human.jpeg\", cartoon)\n",
    "cv2.waitKey(0)\n",
    "cv2.destroyAllWindows()"
   ]
  },
  {
   "cell_type": "code",
   "execution_count": null,
   "id": "94a31a9f",
   "metadata": {},
   "outputs": [],
   "source": [
    "#GHOST_FILTER\n",
    "import cv2\n",
    "\n",
    "# Load the image\n",
    "img = cv2.imread('curl.jpeg')\n",
    "\n",
    "# Invert the image\n",
    "inv_img = cv2.bitwise_not(img)\n",
    "\n",
    "# Display the original and inverted images side by side\n",
    "cv2.imshow('Original Image', img)\n",
    "cv2.imshow('Inverted Image', inv_img)\n",
    "\n",
    "# Wait for user input and then exit\n",
    "cv2.waitKey(0)\n",
    "cv2.destroyAllWindows()"
   ]
  }
 ],
 "metadata": {
  "kernelspec": {
   "display_name": "Python 3 (ipykernel)",
   "language": "python",
   "name": "python3"
  },
  "language_info": {
   "codemirror_mode": {
    "name": "ipython",
    "version": 3
   },
   "file_extension": ".py",
   "mimetype": "text/x-python",
   "name": "python",
   "nbconvert_exporter": "python",
   "pygments_lexer": "ipython3",
   "version": "3.9.13"
  }
 },
 "nbformat": 4,
 "nbformat_minor": 5
}
